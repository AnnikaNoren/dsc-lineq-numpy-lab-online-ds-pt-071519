{
 "cells": [
  {
   "cell_type": "markdown",
   "metadata": {
    "toc": true
   },
   "source": [
    "<h1>Table of Contents<span class=\"tocSkip\"></span></h1>\n",
    "<div class=\"toc\"><ul class=\"toc-item\"><li><span><a href=\"#Solving-Systems-of-Linear-Equations-with-NumPy---Lab\" data-toc-modified-id=\"Solving-Systems-of-Linear-Equations-with-NumPy---Lab-1\"><span class=\"toc-item-num\">1&nbsp;&nbsp;</span>Solving Systems of Linear Equations with NumPy - Lab</a></span><ul class=\"toc-item\"><li><span><a href=\"#Introduction\" data-toc-modified-id=\"Introduction-1.1\"><span class=\"toc-item-num\">1.1&nbsp;&nbsp;</span>Introduction</a></span></li><li><span><a href=\"#Objectives\" data-toc-modified-id=\"Objectives-1.2\"><span class=\"toc-item-num\">1.2&nbsp;&nbsp;</span>Objectives</a></span></li><li><span><a href=\"#Exercise-1\" data-toc-modified-id=\"Exercise-1-1.3\"><span class=\"toc-item-num\">1.3&nbsp;&nbsp;</span>Exercise 1</a></span></li><li><span><a href=\"#Exercise-2\" data-toc-modified-id=\"Exercise-2-1.4\"><span class=\"toc-item-num\">1.4&nbsp;&nbsp;</span>Exercise 2</a></span></li></ul></li><li><span><a href=\"#Describe-your-result\" data-toc-modified-id=\"Describe-your-result-2\"><span class=\"toc-item-num\">2&nbsp;&nbsp;</span>Describe your result</a></span><ul class=\"toc-item\"><li><span><a href=\"#Exercise-3\" data-toc-modified-id=\"Exercise-3-2.1\"><span class=\"toc-item-num\">2.1&nbsp;&nbsp;</span>Exercise 3</a></span></li></ul></li><li><span><a href=\"#Describe-your-result\" data-toc-modified-id=\"Describe-your-result-3\"><span class=\"toc-item-num\">3&nbsp;&nbsp;</span>Describe your result</a></span><ul class=\"toc-item\"><li><span><a href=\"#Exercise-4\" data-toc-modified-id=\"Exercise-4-3.1\"><span class=\"toc-item-num\">3.1&nbsp;&nbsp;</span>Exercise 4</a></span></li></ul></li><li><span><a href=\"#Describe-your-result\" data-toc-modified-id=\"Describe-your-result-4\"><span class=\"toc-item-num\">4&nbsp;&nbsp;</span>Describe your result</a></span><ul class=\"toc-item\"><li><span><a href=\"#Summary\" data-toc-modified-id=\"Summary-4.1\"><span class=\"toc-item-num\">4.1&nbsp;&nbsp;</span>Summary</a></span></li></ul></li></ul></div>"
   ]
  },
  {
   "cell_type": "markdown",
   "metadata": {},
   "source": [
    "# Solving Systems of Linear Equations with NumPy - Lab\n",
    "\n",
    "## Introduction \n",
    "\n",
    "Now you've gathered all the required skills needed to solve systems of linear equations. You saw why there was a need to calculate inverses of matrices, followed by matrix multiplication to figure out the values of unknown variables. \n",
    "\n",
    "The exercises in this lab present some problems that can be converted into a system of linear equations. \n",
    "\n",
    "## Objectives\n",
    "You will be able to:\n",
    "\n",
    "- Use matrix algebra and NumPy to solve a system of linear equations given a real-life example \n",
    "- Use NumPy's linear algebra solver to solve for systems of linear equations\n",
    "\n",
    "## Exercise 1\n",
    "\n",
    "A coffee shop is having a sale on coffee and tea. \n",
    "\n",
    "On day 1, 29 bags of coffee and 41 bags of tea were sold, for a total of 490 dollars.\n",
    "\n",
    "On day 2, they sold 23 bags of coffee and 41 bags of tea, for which customers paid a total of 448 dollars.  \n",
    "\n",
    "How much does each bag cost?"
   ]
  },
  {
   "cell_type": "code",
   "execution_count": 6,
   "metadata": {},
   "outputs": [
    {
     "name": "stdout",
     "output_type": "stream",
     "text": [
      "[[7.]\n",
      " [7.]]\n",
      "[[7.]\n",
      " [7.]]\n"
     ]
    }
   ],
   "source": [
    "# Create and solve the relevant system of equations\n",
    "A = np.matrix([[29, 41], [23, 41]])\n",
    "B = np.matrix([490, 448])\n",
    "\n",
    "A_inv = np.linalg.inv(A)\n",
    "B = B.T\n",
    "X = A_inv.dot(B)\n",
    "print(X)\n",
    "#print(A.dot(X))\n",
    "\n",
    "x = np.linalg.solve(A, B)\n",
    "print(x)"
   ]
  },
  {
   "cell_type": "code",
   "execution_count": null,
   "metadata": {},
   "outputs": [],
   "source": [
    "# Describe your result\n",
    "# A bag of coffee and bag of tea costs $7 each."
   ]
  },
  {
   "cell_type": "markdown",
   "metadata": {},
   "source": [
    "## Exercise 2\n",
    "\n",
    "The cost of admission to a popular music concert was 162 dollars for 12 children and 3 adults. \n",
    "\n",
    "The admission was 122 dollars for 8 children and 3 adults in the same music concert. \n",
    "\n",
    "How much was the admission for each child and adult?"
   ]
  },
  {
   "cell_type": "code",
   "execution_count": 8,
   "metadata": {},
   "outputs": [
    {
     "name": "stdout",
     "output_type": "stream",
     "text": [
      "[[10.]\n",
      " [14.]]\n"
     ]
    }
   ],
   "source": [
    "# Create and solve the relevant system of equations\n",
    "\n",
    "C = np.matrix([[12, 3], [8, 3]])\n",
    "D = np.matrix([162, 122])\n",
    "D = D.T\n",
    "x = np.linalg.solve(C, D)\n",
    "print(x)"
   ]
  },
  {
   "cell_type": "markdown",
   "metadata": {},
   "source": [
    "# Describe your result\n",
    "A child's ticket costs 10 USD and an adult is 14 USD."
   ]
  },
  {
   "cell_type": "markdown",
   "metadata": {},
   "source": [
    "## Exercise 3\n",
    "\n",
    "You want to make a soup containing tomatoes, carrots, and onions.\n",
    "\n",
    "Suppose you don't know the exact mix to put in, but you know there are 7 individual pieces of vegetables, and there are twice as many tomatoes as onions, and that the 7 pieces of vegetables cost 5.25 USD in total. \n",
    "You also know that onions cost 0.5 USD each, tomatoes cost 0.75 USD and carrots cost 1.25 USD each.\n",
    "\n",
    "Create a system of equations to find out exactly how many of each of the vegetables are in your soup."
   ]
  },
  {
   "cell_type": "code",
   "execution_count": 11,
   "metadata": {},
   "outputs": [
    {
     "name": "stdout",
     "output_type": "stream",
     "text": [
      "[[1.]\n",
      " [2.]\n",
      " [4.]]\n"
     ]
    }
   ],
   "source": [
    "# Create and solve the relevant system of equations\n",
    "# c+t+o=7\n",
    "# t=2o or 0c + -2o + t = 0\n",
    "# 0.5o +  0.75t + 1.25c = 5.25\n",
    "\n",
    "E = np.matrix([[1.25, 0.5, 0.75], [1, 1,1],[0,-2,1]])\n",
    "F = np.matrix([5.25, 7,0])\n",
    "F = F.T\n",
    "x = np.linalg.solve(E, F)\n",
    "print(x)"
   ]
  },
  {
   "cell_type": "markdown",
   "metadata": {},
   "source": [
    "# Describe your result\n",
    "There is one carrot, 2 onions and 4 tomatoes in the soup."
   ]
  },
  {
   "cell_type": "markdown",
   "metadata": {},
   "source": [
    "## Exercise 4\n",
    "\n",
    "A landlord owns 3 properties: a 1-bedroom, a 2-bedroom, and a 3-bedroom house. \n",
    "\n",
    "The total rent he receives is 1240 USD. \n",
    "\n",
    "He needs to make some repairs, where those repairs cost 10% of the 1-bedroom house’s rent. The 2-bedroom repairs cost 20% of the 2-bedroom rental price and 30% of the 3-bedroom house's rent for its repairs.  The total repair bill for all three houses was 276 USD. \n",
    "\n",
    "The 3-bedroom house's rent is twice the 1-bedroom house’s rent. \n",
    "\n",
    "How much is the individual rent for three houses?"
   ]
  },
  {
   "cell_type": "code",
   "execution_count": 14,
   "metadata": {},
   "outputs": [
    {
     "name": "stdout",
     "output_type": "stream",
     "text": [
      "[[280.]\n",
      " [400.]\n",
      " [560.]]\n"
     ]
    }
   ],
   "source": [
    "# Create and solve the relevant system of equations\n",
    "G = np.matrix([[0.1, 0.2, 0.3], [1, 1,1],[2,0,-1]])\n",
    "H = np.matrix([276, 1240,0])\n",
    "H = H.T\n",
    "x = np.linalg.solve(G,H)\n",
    "print(x)"
   ]
  },
  {
   "cell_type": "markdown",
   "metadata": {},
   "source": [
    "# Describe your result\n",
    "The rent for 1 bed is 280USD, for 2 bed is 400USD and 3 bed is 560USD."
   ]
  },
  {
   "cell_type": "markdown",
   "metadata": {},
   "source": [
    "## Summary\n",
    "In this lab, you learned how to use NumPy to solve linear equations by taking inverses and matrix multiplication and also using numpy's `solve()` function. You'll now take these skills forward and see how you can define a simple regression problem using linear algebra and solve it with Numpy. "
   ]
  }
 ],
 "metadata": {
  "kernelspec": {
   "display_name": "Python 3",
   "language": "python",
   "name": "python3"
  },
  "language_info": {
   "codemirror_mode": {
    "name": "ipython",
    "version": 3
   },
   "file_extension": ".py",
   "mimetype": "text/x-python",
   "name": "python",
   "nbconvert_exporter": "python",
   "pygments_lexer": "ipython3",
   "version": "3.6.6"
  },
  "toc": {
   "base_numbering": 1,
   "nav_menu": {},
   "number_sections": true,
   "sideBar": true,
   "skip_h1_title": false,
   "title_cell": "Table of Contents",
   "title_sidebar": "Contents",
   "toc_cell": true,
   "toc_position": {},
   "toc_section_display": true,
   "toc_window_display": false
  },
  "varInspector": {
   "cols": {
    "lenName": 16,
    "lenType": 16,
    "lenVar": 40
   },
   "kernels_config": {
    "python": {
     "delete_cmd_postfix": "",
     "delete_cmd_prefix": "del ",
     "library": "var_list.py",
     "varRefreshCmd": "print(var_dic_list())"
    },
    "r": {
     "delete_cmd_postfix": ") ",
     "delete_cmd_prefix": "rm(",
     "library": "var_list.r",
     "varRefreshCmd": "cat(var_dic_list()) "
    }
   },
   "types_to_exclude": [
    "module",
    "function",
    "builtin_function_or_method",
    "instance",
    "_Feature"
   ],
   "window_display": false
  }
 },
 "nbformat": 4,
 "nbformat_minor": 2
}
